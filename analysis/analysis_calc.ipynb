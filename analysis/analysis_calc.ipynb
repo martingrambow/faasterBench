{
 "cells": [
  {
   "cell_type": "code",
   "execution_count": 12,
   "metadata": {
    "collapsed": true
   },
   "outputs": [],
   "source": [
    "import pandas as pd\n",
    "import numpy as np\n",
    "import random\n",
    "\n",
    "infile = \"results.pkl\"\n",
    "outfile = \"perfChanges.plk\"\n",
    "samples = 10000\n",
    "CIsmall = 100 - 99 # 99% conf\n",
    "CImed = 100 - 95 # 95% conf\n",
    "CIlarge = 100 - 10 # 90% conf\n",
    "df_results = pd.read_pickle(infile)"
   ]
  },
  {
   "cell_type": "code",
   "source": [
    "workloads = df_results.workload.unique()\n",
    "for workload in workloads:\n",
    "    print(workload)\n",
    "    durations1 = df_results.loc[(df_results['workload'] == workload) & (df_results['function'] == \"f1\"),'duration'].to_numpy()\n",
    "    durations2 = df_results.loc[(df_results['workload'] == workload) & (df_results['function'] == \"f2\"),'duration'].to_numpy()\n",
    "    draws = min(len(durations1), len(durations2))\n",
    "\n",
    "    med1 = np.median(durations1)\n",
    "    med2 = np.median(durations2)\n",
    "    medPerfChange = med2 / med1\n",
    "    print(f\"    Median Perf Change for workload {workload} is {medPerfChange}%.\")\n",
    "\n",
    "    medians = []\n",
    "    for r in range (samples):\n",
    "        samles1 = random.choices(durations1, k=draws)\n",
    "        samles2 = random.choices(durations2, k=draws)\n",
    "        med1 = np.median(samles1)\n",
    "        med2 = np.median(samles2)\n",
    "        medians.append(med2/med1)\n",
    "    medians.sort()\n",
    "\n",
    "    small = int((samples * CIsmall) / 100 / 2)\n",
    "    if small == 0:\n",
    "        small  = 1\n",
    "    medium = int((samples * CImed) / 100 / 2)\n",
    "    large = int((samples * CIlarge) / 100 / 2)\n",
    "\n",
    "    minSmall = medians[small-1]\n",
    "    minSmall = (minSmall - 1) * 100\n",
    "    maxSmall = medians[samples-small-1]\n",
    "    maxSmall = (maxSmall - 1) * 100\n",
    "\n",
    "    minMedium = medians[medium-1]\n",
    "    minMedium = (minMedium - 1) * 100\n",
    "    maxMedium = medians[samples-medium-1]\n",
    "    maxMedium = (maxMedium - 1) * 100\n",
    "\n",
    "    minLarge = medians[large-1]\n",
    "    minLarge = (minLarge - 1) * 100\n",
    "    maxLarge = medians[samples-large-1]\n",
    "    maxLarge = (maxLarge - 1) * 100\n",
    "\n",
    "    print(f\"    Found conf. intervals ([{minSmall}, {maxSmall}],[{minMedium}, {maxMedium}],[{minLarge}, {maxLarge}]).\")\n",
    "\n",
    "\n",
    "\n",
    "\n",
    "\n",
    "\n"
   ],
   "metadata": {
    "collapsed": false,
    "pycharm": {
     "name": "#%%\n"
    }
   },
   "execution_count": 13,
   "outputs": [
    {
     "name": "stdout",
     "output_type": "stream",
     "text": [
      "A5\n",
      "    Median Perf Change for workload A5 is nan%.\n",
      "    Found conf. intervals ([nan, nan],[nan, nan],[nan, nan]).\n",
      "B5\n",
      "    Median Perf Change for workload B5 is nan%.\n",
      "    Found conf. intervals ([nan, nan],[nan, nan],[nan, nan]).\n",
      "C5\n",
      "    Median Perf Change for workload C5 is 1.0%.\n",
      "    Found conf. intervals ([0.0, inf],[0.0, inf],[0.0, 0.0]).\n",
      "D5\n",
      "    Median Perf Change for workload D5 is 1.0%.\n",
      "    Found conf. intervals ([0.0, 19.999999999999996],[0.0, 19.999999999999996],[0.0, 0.0]).\n",
      "E5\n",
      "    Median Perf Change for workload E5 is 1.015%.\n",
      "    Found conf. intervals ([0.496277915632759, 6.842105263157894],[0.995024875621886, 5.454545454545445],[1.7587939698492372, 2.0000000000000018]).\n"
     ]
    },
    {
     "name": "stderr",
     "output_type": "stream",
     "text": [
      "<ipython-input-13-df1120e584cf>:10: RuntimeWarning: invalid value encountered in double_scalars\n",
      "  medPerfChange = med2 / med1\n",
      "<ipython-input-13-df1120e584cf>:19: RuntimeWarning: invalid value encountered in double_scalars\n",
      "  medians.append(med2/med1)\n",
      "<ipython-input-13-df1120e584cf>:19: RuntimeWarning: divide by zero encountered in double_scalars\n",
      "  medians.append(med2/med1)\n"
     ]
    }
   ]
  }
 ],
 "metadata": {
  "kernelspec": {
   "display_name": "Python 3",
   "language": "python",
   "name": "python3"
  },
  "language_info": {
   "codemirror_mode": {
    "name": "ipython",
    "version": 2
   },
   "file_extension": ".py",
   "mimetype": "text/x-python",
   "name": "python",
   "nbconvert_exporter": "python",
   "pygments_lexer": "ipython2",
   "version": "2.7.6"
  }
 },
 "nbformat": 4,
 "nbformat_minor": 0
}