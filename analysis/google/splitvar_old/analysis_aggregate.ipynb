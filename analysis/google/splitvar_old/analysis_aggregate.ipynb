{
 "cells": [
  {
   "cell_type": "code",
   "execution_count": 1,
   "metadata": {
    "collapsed": true
   },
   "outputs": [],
   "source": [
    "import glob\n",
    "import pandas as pd\n",
    "\n",
    "rawData = []\n",
    "outfile = \"results.pkl\""
   ]
  },
  {
   "cell_type": "code",
   "execution_count": 3,
   "metadata": {
    "collapsed": false,
    "pycharm": {
     "name": "#%%\n"
    }
   },
   "outputs": [
    {
     "name": "stdout",
     "output_type": "stream",
     "text": [
      "google_50_10_5_3.log\n"
     ]
    },
    {
     "ename": "ValueError",
     "evalue": "invalid literal for int() with base 10: 'modeB'",
     "output_type": "error",
     "traceback": [
      "\u001b[0;31m---------------------------------------------------------------------------\u001b[0m",
      "\u001b[0;31mValueError\u001b[0m                                Traceback (most recent call last)",
      "\u001b[1;32m/home/gov/faasterbench/analysis/google/splitvar/analysis_aggregate.ipynb Cell 2\u001b[0m line \u001b[0;36m6\n\u001b[1;32m     <a href='vscode-notebook-cell://wsl%2Bubuntu/home/gov/faasterbench/analysis/google/splitvar/analysis_aggregate.ipynb#W1sdnNjb2RlLXJlbW90ZQ%3D%3D?line=59'>60</a>\u001b[0m         \u001b[39mbreak\u001b[39;00m\n\u001b[1;32m     <a href='vscode-notebook-cell://wsl%2Bubuntu/home/gov/faasterbench/analysis/google/splitvar/analysis_aggregate.ipynb#W1sdnNjb2RlLXJlbW90ZQ%3D%3D?line=60'>61</a>\u001b[0m     \u001b[39melse\u001b[39;00m:\n\u001b[0;32m---> <a href='vscode-notebook-cell://wsl%2Bubuntu/home/gov/faasterbench/analysis/google/splitvar/analysis_aggregate.ipynb#W1sdnNjb2RlLXJlbW90ZQ%3D%3D?line=61'>62</a>\u001b[0m         \u001b[39mif\u001b[39;00m \u001b[39mint\u001b[39;49m(parts2[i]) \u001b[39m<\u001b[39m \u001b[39m200\u001b[39m:\n\u001b[1;32m     <a href='vscode-notebook-cell://wsl%2Bubuntu/home/gov/faasterbench/analysis/google/splitvar/analysis_aggregate.ipynb#W1sdnNjb2RlLXJlbW90ZQ%3D%3D?line=62'>63</a>\u001b[0m             f1Durations\u001b[39m.\u001b[39mappend(\u001b[39mint\u001b[39m(parts2[i]))\n\u001b[1;32m     <a href='vscode-notebook-cell://wsl%2Bubuntu/home/gov/faasterbench/analysis/google/splitvar/analysis_aggregate.ipynb#W1sdnNjb2RlLXJlbW90ZQ%3D%3D?line=64'>65</a>\u001b[0m \u001b[39mfor\u001b[39;00m i \u001b[39min\u001b[39;00m \u001b[39mrange\u001b[39m(\u001b[39m0\u001b[39m, \u001b[39mlen\u001b[39m(f1Durations)):\n\u001b[1;32m     <a href='vscode-notebook-cell://wsl%2Bubuntu/home/gov/faasterbench/analysis/google/splitvar/analysis_aggregate.ipynb#W1sdnNjb2RlLXJlbW90ZQ%3D%3D?line=65'>66</a>\u001b[0m     \u001b[39m#if (f1Durations[i] > 200  and f2Durations[i] > 200):\u001b[39;00m\n",
      "\u001b[0;31mValueError\u001b[0m: invalid literal for int() with base 10: 'modeB'"
     ]
    }
   ],
   "source": [
    "for file in glob.glob(\"*.log\"):\n",
    "    print(file)\n",
    "    workloadParts = file.split(\"_\")\n",
    "    platform = workloadParts[0]\n",
    "    regression = int(workloadParts[1])\n",
    "    wrapperCount = int(workloadParts[2])\n",
    "    callsPerFunction = workloadParts[3]\n",
    "    iterations = int(workloadParts[4].split(\".\")[0])\n",
    "\n",
    "    #    with open(file) as logfile:\n",
    "    with open(file) as logfile:\n",
    "        for line in logfile:\n",
    "            if line.__contains__(\"textPayload\"):\n",
    "                if line.__contains__(\"modeA\") and not line.__contains__(\"cold start\"):\n",
    "                    line = line.strip()\n",
    "                    parts2 = line.split(\" \")\n",
    "                    #print(line)\n",
    "                    row = {}\n",
    "                    row[\"platform\"] = platform\n",
    "                    row[\"regression\"] = regression\n",
    "                    row[\"wrapperCount\"] = wrapperCount\n",
    "                    row[\"callsPerFunction\"] = callsPerFunction\n",
    "                    row[\"iterations\"] = iterations\n",
    "\n",
    "                    row[\"mode\"] = parts2[2]\n",
    "                    f1Durations = []\n",
    "                    f2Durations = []\n",
    "                    f2Found = False\n",
    "\n",
    "                    for i in range(4,len(parts2)):\n",
    "                        if parts2[i] == \"f2\":\n",
    "                            break\n",
    "                        \n",
    "                        if int(parts2[i]) < 200 and int(parts2[i+4]) < 300:\n",
    "                            f1Durations.append(int(parts2[i]))\n",
    "                            f2Durations.append(int(parts2[i+4]))\n",
    "\n",
    "                    for i in range(0, len(f1Durations)):\n",
    "                        #if (f1Durations[i] > 200  and f2Durations[i] > 200):\n",
    "                        row[\"f1\"] = f1Durations[i]\n",
    "                        row[\"f2\"] = f2Durations[i]\n",
    "                        row[\"change\"] = f2Durations[i] / f1Durations[i]\n",
    "                        rawData.append(row)\n",
    "                if line.__contains__(\"modeB\") and not line.__contains__(\"cold start\"):\n",
    "                    line = line.strip()\n",
    "                    parts2 = line.split(\" \")\n",
    "                    #print(line)\n",
    "                    row = {}\n",
    "                    row[\"platform\"] = platform\n",
    "                    row[\"regression\"] = regression\n",
    "                    row[\"wrapperCount\"] = wrapperCount\n",
    "                    row[\"callsPerFunction\"] = callsPerFunction\n",
    "                    row[\"iterations\"] = iterations\n",
    "                    row[\"mode\"] = parts2[2]\n",
    "\n",
    "                    f1Durations = []\n",
    "\n",
    "                    for i in range(4,len(parts2)):\n",
    "                        if parts2[i] == \"f2\":\n",
    "                            break\n",
    "                        else:\n",
    "                            f1Durations.append(int(parts2[i]))\n",
    "\n",
    "                    for i in range(0, len(f1Durations)):\n",
    "                        #if (f1Durations[i] > 200  and f2Durations[i] > 200):\n",
    "                        row[\"f1\"] = f1Durations[i]\n",
    "                        row[\"f2\"] = 0\n",
    "                        row[\"change\"] = 0\n",
    "                        rawData.append(row)\n",
    "\n",
    "                if line.__contains__(\"modeC\") and not line.__contains__(\"cold start\"):\n",
    "                    line = line.strip()\n",
    "                    parts2 = line.split(\" \")\n",
    "                    #print(line)\n",
    "                    row = {}\n",
    "                    row[\"platform\"] = platform\n",
    "                    row[\"regression\"] = regression\n",
    "                    row[\"wrapperCount\"] = wrapperCount\n",
    "                    row[\"callsPerFunction\"] = callsPerFunction\n",
    "                    row[\"iterations\"] = iterations\n",
    "                    row[\"mode\"] = parts2[2]\n",
    "\n",
    "                    f2Durations = []\n",
    "\n",
    "                    for i in range(5,len(parts2)):\n",
    "                        if parts2[i] == \"\\\",\":\n",
    "                            break\n",
    "                        else:\n",
    "                            f2Durations.append(int(parts2[i]))\n",
    "\n",
    "                    for i in range(0, len(f2Durations)):\n",
    "                        #if (f1Durations[i] > 200  and f2Durations[i] > 200):\n",
    "                        row[\"f1\"] = 0\n",
    "                        row[\"f2\"] = f2Durations[i]\n",
    "                        row[\"change\"] = 0\n",
    "                        rawData.append(row)\n",
    "\n",
    "\n"
   ]
  },
  {
   "cell_type": "code",
   "execution_count": 56,
   "metadata": {
    "collapsed": false,
    "pycharm": {
     "name": "#%%\n"
    }
   },
   "outputs": [],
   "source": [
    "df_results = pd.DataFrame(rawData)\n",
    "df_results.head()\n",
    "df_results.describe()\n",
    "\n",
    "df_results.to_pickle(outfile)\n",
    "#df_results.to_csv(\"nils2.csv\")"
   ]
  }
 ],
 "metadata": {
  "kernelspec": {
   "display_name": "Python 3",
   "language": "python",
   "name": "python3"
  },
  "language_info": {
   "codemirror_mode": {
    "name": "ipython",
    "version": 3
   },
   "file_extension": ".py",
   "mimetype": "text/x-python",
   "name": "python",
   "nbconvert_exporter": "python",
   "pygments_lexer": "ipython3",
   "version": "3.10.12"
  }
 },
 "nbformat": 4,
 "nbformat_minor": 0
}
