{
 "cells": [
  {
   "cell_type": "code",
   "execution_count": 8,
   "metadata": {
    "collapsed": true
   },
   "outputs": [],
   "source": [
    "import glob\n",
    "import pandas as pd\n",
    "\n",
    "rawData = []\n",
    "outfile = \"results.pkl\""
   ]
  },
  {
   "cell_type": "code",
   "execution_count": 9,
   "metadata": {
    "collapsed": false,
    "pycharm": {
     "name": "#%%\n"
    }
   },
   "outputs": [
    {
     "name": "stdout",
     "output_type": "stream",
     "text": [
      "google_0_5_5_3.log\n",
      "google_0_10_5_3.log\n",
      "google_0_5_10_3.log\n",
      "google_0_10_10_3.log\n",
      "google_0_5_25_3.log\n",
      "google_0_10_25_3.log\n"
     ]
    }
   ],
   "source": [
    "for file in glob.glob(\"*.log\"):\n",
    "    print(file)\n",
    "    workloadParts = file.split(\"_\")\n",
    "    platform = workloadParts[0]\n",
    "    regression = int(workloadParts[1])\n",
    "    wrapperCount = int(workloadParts[2])\n",
    "    callsPerFunction = workloadParts[3]\n",
    "    iterations = int(workloadParts[4].split(\".\")[0])\n",
    "\n",
    "    #    with open(file) as logfile:\n",
    "    with open(file) as logfile:\n",
    "        for line in logfile:\n",
    "            if line.__contains__(\"textPayload\"):\n",
    "                if line.__contains__(\"modeA\") and not line.__contains__(\"cold start\"):\n",
    "                    line = line.strip()\n",
    "                    parts2 = line.split(\" \")\n",
    "                    #print(line)\n",
    "                    row = {}\n",
    "                    row[\"platform\"] = platform\n",
    "                    row[\"regression\"] = regression\n",
    "                    row[\"wrapperCount\"] = wrapperCount\n",
    "                    row[\"callsPerFunction\"] = callsPerFunction\n",
    "                    row[\"iterations\"] = iterations\n",
    "\n",
    "                    row[\"mode\"] = parts2[2]\n",
    "                    f1Durations = []\n",
    "                    f2Durations = []\n",
    "                    f2Found = False\n",
    "\n",
    "                    for i in range(4,len(parts2)):\n",
    "                        if parts2[i] == \"f2\":\n",
    "                            break\n",
    "                        else:\n",
    "                            f1Durations.append(int(parts2[i]))\n",
    "                            f2Durations.append(int(parts2[i+4]))\n",
    "\n",
    "                    for i in range(0, len(f1Durations)):\n",
    "                        #if (f1Durations[i] > 200  and f2Durations[i] > 200):\n",
    "                        row[\"f1\"] = f1Durations[i]\n",
    "                        row[\"f2\"] = f2Durations[i]\n",
    "                        row[\"change\"] = f2Durations[i] / f1Durations[i]\n",
    "                        rawData.append(row)\n",
    "                if line.__contains__(\"modeB\") and not line.__contains__(\"cold start\"):\n",
    "                    line = line.strip()\n",
    "                    parts2 = line.split(\" \")\n",
    "                    #print(line)\n",
    "                    row = {}\n",
    "                    row[\"platform\"] = platform\n",
    "                    row[\"regression\"] = regression\n",
    "                    row[\"wrapperCount\"] = wrapperCount\n",
    "                    row[\"callsPerFunction\"] = callsPerFunction\n",
    "                    row[\"iterations\"] = iterations\n",
    "                    row[\"mode\"] = parts2[2]\n",
    "\n",
    "                    f1Durations = []\n",
    "\n",
    "                    for i in range(4,len(parts2)):\n",
    "                        if parts2[i] == \"f2\":\n",
    "                            break\n",
    "                        else:\n",
    "                            f1Durations.append(int(parts2[i]))\n",
    "\n",
    "                    for i in range(0, len(f1Durations)):\n",
    "                        #if (f1Durations[i] > 200  and f2Durations[i] > 200):\n",
    "                        row[\"f1\"] = f1Durations[i]\n",
    "                        row[\"f2\"] = 0\n",
    "                        row[\"change\"] = 0\n",
    "                        rawData.append(row)\n",
    "\n",
    "                if line.__contains__(\"modeC\") and not line.__contains__(\"cold start\"):\n",
    "                    line = line.strip()\n",
    "                    parts2 = line.split(\" \")\n",
    "                    #print(line)\n",
    "                    row = {}\n",
    "                    row[\"platform\"] = platform\n",
    "                    row[\"regression\"] = regression\n",
    "                    row[\"wrapperCount\"] = wrapperCount\n",
    "                    row[\"callsPerFunction\"] = callsPerFunction\n",
    "                    row[\"iterations\"] = iterations\n",
    "                    row[\"mode\"] = parts2[2]\n",
    "\n",
    "                    f2Durations = []\n",
    "\n",
    "                    for i in range(5,len(parts2)):\n",
    "                        if parts2[i] == \"\\\",\":\n",
    "                            break\n",
    "                        else:\n",
    "                            f2Durations.append(int(parts2[i]))\n",
    "\n",
    "                    for i in range(0, len(f2Durations)):\n",
    "                        #if (f1Durations[i] > 200  and f2Durations[i] > 200):\n",
    "                        row[\"f1\"] = 0\n",
    "                        row[\"f2\"] = f2Durations[i]\n",
    "                        row[\"change\"] = 0\n",
    "                        rawData.append(row)\n",
    "\n",
    "\n"
   ]
  },
  {
   "cell_type": "code",
   "execution_count": 10,
   "metadata": {
    "collapsed": false,
    "pycharm": {
     "name": "#%%\n"
    }
   },
   "outputs": [
    {
     "ename": "ValueError",
     "evalue": "Cannot describe a DataFrame without columns",
     "output_type": "error",
     "traceback": [
      "\u001b[0;31m---------------------------------------------------------------------------\u001b[0m",
      "\u001b[0;31mValueError\u001b[0m                                Traceback (most recent call last)",
      "\u001b[1;32m/home/gov/faasterbench/analysis/google/moddiff/analysis_aggregate.ipynb Cell 3\u001b[0m line \u001b[0;36m3\n\u001b[1;32m      <a href='vscode-notebook-cell://wsl%2Bubuntu/home/gov/faasterbench/analysis/google/moddiff/analysis_aggregate.ipynb#W2sdnNjb2RlLXJlbW90ZQ%3D%3D?line=0'>1</a>\u001b[0m df_results \u001b[39m=\u001b[39m pd\u001b[39m.\u001b[39mDataFrame(rawData)\n\u001b[1;32m      <a href='vscode-notebook-cell://wsl%2Bubuntu/home/gov/faasterbench/analysis/google/moddiff/analysis_aggregate.ipynb#W2sdnNjb2RlLXJlbW90ZQ%3D%3D?line=1'>2</a>\u001b[0m df_results\u001b[39m.\u001b[39mhead()\n\u001b[0;32m----> <a href='vscode-notebook-cell://wsl%2Bubuntu/home/gov/faasterbench/analysis/google/moddiff/analysis_aggregate.ipynb#W2sdnNjb2RlLXJlbW90ZQ%3D%3D?line=2'>3</a>\u001b[0m df_results\u001b[39m.\u001b[39;49mdescribe()\n\u001b[1;32m      <a href='vscode-notebook-cell://wsl%2Bubuntu/home/gov/faasterbench/analysis/google/moddiff/analysis_aggregate.ipynb#W2sdnNjb2RlLXJlbW90ZQ%3D%3D?line=4'>5</a>\u001b[0m df_results\u001b[39m.\u001b[39mto_pickle(outfile)\n\u001b[1;32m      <a href='vscode-notebook-cell://wsl%2Bubuntu/home/gov/faasterbench/analysis/google/moddiff/analysis_aggregate.ipynb#W2sdnNjb2RlLXJlbW90ZQ%3D%3D?line=5'>6</a>\u001b[0m \u001b[39m#df_results.to_csv(\"nils2.csv\")\u001b[39;00m\n",
      "File \u001b[0;32m~/.local/lib/python3.10/site-packages/pandas/core/generic.py:11544\u001b[0m, in \u001b[0;36mNDFrame.describe\u001b[0;34m(self, percentiles, include, exclude)\u001b[0m\n\u001b[1;32m  11302\u001b[0m \u001b[39m@final\u001b[39m\n\u001b[1;32m  11303\u001b[0m \u001b[39mdef\u001b[39;00m \u001b[39mdescribe\u001b[39m(\n\u001b[1;32m  11304\u001b[0m     \u001b[39mself\u001b[39m,\n\u001b[0;32m   (...)\u001b[0m\n\u001b[1;32m  11307\u001b[0m     exclude\u001b[39m=\u001b[39m\u001b[39mNone\u001b[39;00m,\n\u001b[1;32m  11308\u001b[0m ) \u001b[39m-\u001b[39m\u001b[39m>\u001b[39m Self:\n\u001b[1;32m  11309\u001b[0m \u001b[39m    \u001b[39m\u001b[39m\"\"\"\u001b[39;00m\n\u001b[1;32m  11310\u001b[0m \u001b[39m    Generate descriptive statistics.\u001b[39;00m\n\u001b[1;32m  11311\u001b[0m \n\u001b[0;32m   (...)\u001b[0m\n\u001b[1;32m  11542\u001b[0m \u001b[39m    max            NaN      3.0\u001b[39;00m\n\u001b[1;32m  11543\u001b[0m \u001b[39m    \"\"\"\u001b[39;00m\n\u001b[0;32m> 11544\u001b[0m     \u001b[39mreturn\u001b[39;00m describe_ndframe(\n\u001b[1;32m  11545\u001b[0m         obj\u001b[39m=\u001b[39;49m\u001b[39mself\u001b[39;49m,\n\u001b[1;32m  11546\u001b[0m         include\u001b[39m=\u001b[39;49minclude,\n\u001b[1;32m  11547\u001b[0m         exclude\u001b[39m=\u001b[39;49mexclude,\n\u001b[1;32m  11548\u001b[0m         percentiles\u001b[39m=\u001b[39;49mpercentiles,\n\u001b[1;32m  11549\u001b[0m     )\u001b[39m.\u001b[39m__finalize__(\u001b[39mself\u001b[39m, method\u001b[39m=\u001b[39m\u001b[39m\"\u001b[39m\u001b[39mdescribe\u001b[39m\u001b[39m\"\u001b[39m)\n",
      "File \u001b[0;32m~/.local/lib/python3.10/site-packages/pandas/core/methods/describe.py:91\u001b[0m, in \u001b[0;36mdescribe_ndframe\u001b[0;34m(obj, include, exclude, percentiles)\u001b[0m\n\u001b[1;32m     87\u001b[0m     describer \u001b[39m=\u001b[39m SeriesDescriber(\n\u001b[1;32m     88\u001b[0m         obj\u001b[39m=\u001b[39mcast(\u001b[39m\"\u001b[39m\u001b[39mSeries\u001b[39m\u001b[39m\"\u001b[39m, obj),\n\u001b[1;32m     89\u001b[0m     )\n\u001b[1;32m     90\u001b[0m \u001b[39melse\u001b[39;00m:\n\u001b[0;32m---> 91\u001b[0m     describer \u001b[39m=\u001b[39m DataFrameDescriber(\n\u001b[1;32m     92\u001b[0m         obj\u001b[39m=\u001b[39;49mcast(\u001b[39m\"\u001b[39;49m\u001b[39mDataFrame\u001b[39;49m\u001b[39m\"\u001b[39;49m, obj),\n\u001b[1;32m     93\u001b[0m         include\u001b[39m=\u001b[39;49minclude,\n\u001b[1;32m     94\u001b[0m         exclude\u001b[39m=\u001b[39;49mexclude,\n\u001b[1;32m     95\u001b[0m     )\n\u001b[1;32m     97\u001b[0m result \u001b[39m=\u001b[39m describer\u001b[39m.\u001b[39mdescribe(percentiles\u001b[39m=\u001b[39mpercentiles)\n\u001b[1;32m     98\u001b[0m \u001b[39mreturn\u001b[39;00m cast(NDFrameT, result)\n",
      "File \u001b[0;32m~/.local/lib/python3.10/site-packages/pandas/core/methods/describe.py:160\u001b[0m, in \u001b[0;36mDataFrameDescriber.__init__\u001b[0;34m(self, obj, include, exclude)\u001b[0m\n\u001b[1;32m    157\u001b[0m \u001b[39mself\u001b[39m\u001b[39m.\u001b[39mexclude \u001b[39m=\u001b[39m exclude\n\u001b[1;32m    159\u001b[0m \u001b[39mif\u001b[39;00m obj\u001b[39m.\u001b[39mndim \u001b[39m==\u001b[39m \u001b[39m2\u001b[39m \u001b[39mand\u001b[39;00m obj\u001b[39m.\u001b[39mcolumns\u001b[39m.\u001b[39msize \u001b[39m==\u001b[39m \u001b[39m0\u001b[39m:\n\u001b[0;32m--> 160\u001b[0m     \u001b[39mraise\u001b[39;00m \u001b[39mValueError\u001b[39;00m(\u001b[39m\"\u001b[39m\u001b[39mCannot describe a DataFrame without columns\u001b[39m\u001b[39m\"\u001b[39m)\n\u001b[1;32m    162\u001b[0m \u001b[39msuper\u001b[39m()\u001b[39m.\u001b[39m\u001b[39m__init__\u001b[39m(obj)\n",
      "\u001b[0;31mValueError\u001b[0m: Cannot describe a DataFrame without columns"
     ]
    }
   ],
   "source": [
    "df_results = pd.DataFrame(rawData)\n",
    "df_results.head()\n",
    "df_results.describe()\n",
    "\n",
    "df_results.to_pickle(outfile)\n",
    "#df_results.to_csv(\"nils2.csv\")"
   ]
  }
 ],
 "metadata": {
  "kernelspec": {
   "display_name": "Python 3",
   "language": "python",
   "name": "python3"
  },
  "language_info": {
   "codemirror_mode": {
    "name": "ipython",
    "version": 3
   },
   "file_extension": ".py",
   "mimetype": "text/x-python",
   "name": "python",
   "nbconvert_exporter": "python",
   "pygments_lexer": "ipython3",
   "version": "3.10.12"
  }
 },
 "nbformat": 4,
 "nbformat_minor": 0
}
