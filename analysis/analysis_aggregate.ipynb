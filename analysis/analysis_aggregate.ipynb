{
 "cells": [
  {
   "cell_type": "code",
   "execution_count": 1,
   "metadata": {
    "collapsed": true
   },
   "outputs": [],
   "source": [
    "import glob, os\n",
    "import pandas as pd\n",
    "\n",
    "rawData = []\n",
    "outfile = \"results.pkl\""
   ]
  },
  {
   "cell_type": "code",
   "source": [
    "\n",
    "#for file in glob.glob(\"*.log\"):\n",
    "#    print(file)\n",
    "#    parts = file.split(\"_\")\n",
    "    #platform = parts[0]\n",
    "platform = \"google\"\n",
    "    # workload = parts[1].split(\".\")[0]\n",
    "\n",
    "#    with open(file) as logfile:\n",
    "with open(\"google.log\") as logfile:\n",
    "    for line in logfile:\n",
    "        if (line.__contains__(\"textPayload\") and line.__contains__(\"modeA\")):\n",
    "            line = line.strip()\n",
    "            parts2 = line.split(\" \")\n",
    "            #print(line)\n",
    "            row = {}\n",
    "            row[\"platform\"] = platform\n",
    "            row[\"mode\"] = parts2[2]\n",
    "\n",
    "            f1Durations = []\n",
    "            f2Durations = []\n",
    "            f2Found = False\n",
    "\n",
    "            for i in range(4,len(parts2)):\n",
    "                if parts2[i] == \"f2\":\n",
    "                    f2Found = True\n",
    "                    continue\n",
    "                if f2Found:\n",
    "                    if len(f2Durations) < len(f1Durations):\n",
    "                        f2Durations.append(int(parts2[i]))\n",
    "                else:\n",
    "                    f1Durations.append(int(parts2[i]))\n",
    "\n",
    "            for i in range(0, len(f1Durations)):\n",
    "                #if (f1Durations[i] > 200  and f2Durations[i] > 200):\n",
    "                row[\"f1\"] = f1Durations[i]\n",
    "                row[\"f2\"] = f2Durations[i]\n",
    "                row[\"change\"] = f2Durations[i] / f1Durations[i]\n",
    "                rawData.append(row)\n",
    "\n",
    "\n"
   ],
   "metadata": {
    "collapsed": false,
    "pycharm": {
     "name": "#%%\n"
    }
   },
   "execution_count": 2,
   "outputs": []
  },
  {
   "cell_type": "code",
   "execution_count": 3,
   "outputs": [
    {
     "data": {
      "text/plain": "                f1           f2       change\ncount  1500.000000  1500.000000  1500.000000\nmean    586.702000   643.688000     1.103233\nstd     155.183981   171.331084     0.121440\nmin     224.000000   247.000000     0.680851\n25%     529.000000   605.000000     1.032437\n50%     593.000000   623.000000     1.092726\n75%     665.500000   710.250000     1.162058\nmax     975.000000  1005.000000     1.843691",
      "text/html": "<div>\n<style scoped>\n    .dataframe tbody tr th:only-of-type {\n        vertical-align: middle;\n    }\n\n    .dataframe tbody tr th {\n        vertical-align: top;\n    }\n\n    .dataframe thead th {\n        text-align: right;\n    }\n</style>\n<table border=\"1\" class=\"dataframe\">\n  <thead>\n    <tr style=\"text-align: right;\">\n      <th></th>\n      <th>f1</th>\n      <th>f2</th>\n      <th>change</th>\n    </tr>\n  </thead>\n  <tbody>\n    <tr>\n      <th>count</th>\n      <td>1500.000000</td>\n      <td>1500.000000</td>\n      <td>1500.000000</td>\n    </tr>\n    <tr>\n      <th>mean</th>\n      <td>586.702000</td>\n      <td>643.688000</td>\n      <td>1.103233</td>\n    </tr>\n    <tr>\n      <th>std</th>\n      <td>155.183981</td>\n      <td>171.331084</td>\n      <td>0.121440</td>\n    </tr>\n    <tr>\n      <th>min</th>\n      <td>224.000000</td>\n      <td>247.000000</td>\n      <td>0.680851</td>\n    </tr>\n    <tr>\n      <th>25%</th>\n      <td>529.000000</td>\n      <td>605.000000</td>\n      <td>1.032437</td>\n    </tr>\n    <tr>\n      <th>50%</th>\n      <td>593.000000</td>\n      <td>623.000000</td>\n      <td>1.092726</td>\n    </tr>\n    <tr>\n      <th>75%</th>\n      <td>665.500000</td>\n      <td>710.250000</td>\n      <td>1.162058</td>\n    </tr>\n    <tr>\n      <th>max</th>\n      <td>975.000000</td>\n      <td>1005.000000</td>\n      <td>1.843691</td>\n    </tr>\n  </tbody>\n</table>\n</div>"
     },
     "execution_count": 3,
     "metadata": {},
     "output_type": "execute_result"
    }
   ],
   "source": [
    "df_results = pd.DataFrame(rawData)\n",
    "df_results.head()\n",
    "df_results.describe()"
   ],
   "metadata": {
    "collapsed": false,
    "pycharm": {
     "name": "#%%\n"
    }
   }
  },
  {
   "cell_type": "code",
   "execution_count": 4,
   "outputs": [],
   "source": [
    "df_results.to_pickle(outfile)"
   ],
   "metadata": {
    "collapsed": false,
    "pycharm": {
     "name": "#%%\n"
    }
   }
  }
 ],
 "metadata": {
  "kernelspec": {
   "display_name": "Python 3",
   "language": "python",
   "name": "python3"
  },
  "language_info": {
   "codemirror_mode": {
    "name": "ipython",
    "version": 2
   },
   "file_extension": ".py",
   "mimetype": "text/x-python",
   "name": "python",
   "nbconvert_exporter": "python",
   "pygments_lexer": "ipython2",
   "version": "2.7.6"
  }
 },
 "nbformat": 4,
 "nbformat_minor": 0
}