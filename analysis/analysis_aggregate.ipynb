{
 "cells": [
  {
   "cell_type": "code",
   "execution_count": 9,
   "metadata": {
    "collapsed": true
   },
   "outputs": [],
   "source": [
    "import glob, os\n",
    "import pandas as pd\n",
    "\n",
    "rawData = []\n",
    "outfile = \"results.pkl\""
   ]
  },
  {
   "cell_type": "code",
   "source": [
    "\n",
    "#for file in glob.glob(\"*.log\"):\n",
    "#    print(file)\n",
    "#    parts = file.split(\"_\")\n",
    "    #platform = parts[0]\n",
    "platform = \"google\"\n",
    "    # workload = parts[1].split(\".\")[0]\n",
    "\n",
    "#    with open(file) as logfile:\n",
    "with open(\"google5Mio.log\") as logfile:\n",
    "    for line in logfile:\n",
    "        if (line.__contains__(\"textPayload\") and line.__contains__(\"modeA\")):\n",
    "            line = line.strip()\n",
    "            parts2 = line.split(\" \")\n",
    "            #print(line)\n",
    "            row = {}\n",
    "            row[\"platform\"] = platform\n",
    "            row[\"mode\"] = parts2[2]\n",
    "\n",
    "            f1Durations = []\n",
    "            f2Durations = []\n",
    "            f2Found = False\n",
    "\n",
    "            for i in range(4,len(parts2)):\n",
    "                if parts2[i] == \"f2\":\n",
    "                    f2Found = True\n",
    "                    continue\n",
    "                if f2Found:\n",
    "                    if len(f2Durations) < len(f1Durations):\n",
    "                        f2Durations.append(int(parts2[i]))\n",
    "                else:\n",
    "                    f1Durations.append(int(parts2[i]))\n",
    "\n",
    "            for i in range(0, len(f1Durations)):\n",
    "                #if (f1Durations[i] > 200  and f2Durations[i] > 200):\n",
    "                row[\"f1\"] = f1Durations[i]\n",
    "                row[\"f2\"] = f2Durations[i]\n",
    "                row[\"change\"] = f2Durations[i] / f1Durations[i]\n",
    "                rawData.append(row)\n",
    "\n",
    "\n"
   ],
   "metadata": {
    "collapsed": false,
    "pycharm": {
     "name": "#%%\n"
    }
   },
   "execution_count": 10,
   "outputs": []
  },
  {
   "cell_type": "code",
   "execution_count": 11,
   "outputs": [
    {
     "data": {
      "text/plain": "                f1           f2       change\ncount  1000.000000  1000.000000  1000.000000\nmean    620.997000   684.924000     1.110720\nstd     150.952753   165.803314     0.133504\nmin     222.000000   247.000000     0.775536\n25%     557.750000   607.000000     1.032874\n50%     602.000000   684.000000     1.102738\n75%     708.250000   800.000000     1.169384\nmax     967.000000  1066.000000     1.936047",
      "text/html": "<div>\n<style scoped>\n    .dataframe tbody tr th:only-of-type {\n        vertical-align: middle;\n    }\n\n    .dataframe tbody tr th {\n        vertical-align: top;\n    }\n\n    .dataframe thead th {\n        text-align: right;\n    }\n</style>\n<table border=\"1\" class=\"dataframe\">\n  <thead>\n    <tr style=\"text-align: right;\">\n      <th></th>\n      <th>f1</th>\n      <th>f2</th>\n      <th>change</th>\n    </tr>\n  </thead>\n  <tbody>\n    <tr>\n      <th>count</th>\n      <td>1000.000000</td>\n      <td>1000.000000</td>\n      <td>1000.000000</td>\n    </tr>\n    <tr>\n      <th>mean</th>\n      <td>620.997000</td>\n      <td>684.924000</td>\n      <td>1.110720</td>\n    </tr>\n    <tr>\n      <th>std</th>\n      <td>150.952753</td>\n      <td>165.803314</td>\n      <td>0.133504</td>\n    </tr>\n    <tr>\n      <th>min</th>\n      <td>222.000000</td>\n      <td>247.000000</td>\n      <td>0.775536</td>\n    </tr>\n    <tr>\n      <th>25%</th>\n      <td>557.750000</td>\n      <td>607.000000</td>\n      <td>1.032874</td>\n    </tr>\n    <tr>\n      <th>50%</th>\n      <td>602.000000</td>\n      <td>684.000000</td>\n      <td>1.102738</td>\n    </tr>\n    <tr>\n      <th>75%</th>\n      <td>708.250000</td>\n      <td>800.000000</td>\n      <td>1.169384</td>\n    </tr>\n    <tr>\n      <th>max</th>\n      <td>967.000000</td>\n      <td>1066.000000</td>\n      <td>1.936047</td>\n    </tr>\n  </tbody>\n</table>\n</div>"
     },
     "execution_count": 11,
     "metadata": {},
     "output_type": "execute_result"
    }
   ],
   "source": [
    "df_results = pd.DataFrame(rawData)\n",
    "df_results.head()\n",
    "df_results.describe()"
   ],
   "metadata": {
    "collapsed": false,
    "pycharm": {
     "name": "#%%\n"
    }
   }
  },
  {
   "cell_type": "code",
   "execution_count": 12,
   "outputs": [],
   "source": [
    "df_results.to_pickle(outfile)"
   ],
   "metadata": {
    "collapsed": false,
    "pycharm": {
     "name": "#%%\n"
    }
   }
  }
 ],
 "metadata": {
  "kernelspec": {
   "display_name": "Python 3",
   "language": "python",
   "name": "python3"
  },
  "language_info": {
   "codemirror_mode": {
    "name": "ipython",
    "version": 2
   },
   "file_extension": ".py",
   "mimetype": "text/x-python",
   "name": "python",
   "nbconvert_exporter": "python",
   "pygments_lexer": "ipython2",
   "version": "2.7.6"
  }
 },
 "nbformat": 4,
 "nbformat_minor": 0
}