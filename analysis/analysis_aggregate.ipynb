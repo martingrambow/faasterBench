{
 "cells": [
  {
   "cell_type": "code",
   "execution_count": 1,
   "metadata": {
    "collapsed": true
   },
   "outputs": [],
   "source": [
    "import glob, os\n",
    "import pandas as pd\n",
    "\n",
    "rawData = []\n",
    "rawData2 = []\n",
    "outfile = \"results.pkl\"\n",
    "outfile2 = \"results2.pkl\""
   ]
  },
  {
   "cell_type": "code",
   "source": [
    "\n",
    "for file in glob.glob(\"*.log\"):\n",
    "    print(file)\n",
    "    parts = file.split(\"_\")\n",
    "    platform = parts[0]\n",
    "    workload = parts[1].split(\".\")[0]\n",
    "\n",
    "    with open(file) as logfile:\n",
    "        f1Duration = 0\n",
    "        f2Duration = 0\n",
    "        for line in logfile:\n",
    "            if (line.__contains__(\"textPayload\") and line.__contains__(\"ms\\\",\")):\n",
    "                line = line.strip()\n",
    "                parts2 = line.split(\" \")\n",
    "                #print(line)\n",
    "                row = {}\n",
    "                row[\"platform\"] = platform\n",
    "                row[\"workload\"] = workload\n",
    "                row[\"function\"] = parts2[2]\n",
    "                row[\"duration\"] = int(parts2[3].split(\"ms\")[0])\n",
    "                rawData.append(row)\n",
    "                #print(row)\n",
    "\n",
    "                if (parts2[2] == \"f1\"):\n",
    "                    f1Duration = int(parts2[3].split(\"ms\")[0])\n",
    "                    if f1Duration == 0:\n",
    "                        f1Duration = 1\n",
    "                    if (f2Duration > 0):\n",
    "                        row = {}\n",
    "                        row[\"platform\"] = platform\n",
    "                        row[\"workload\"] = workload\n",
    "                        row[\"f1\"] = f1Duration\n",
    "                        row[\"f2\"] = f2Duration\n",
    "                        row[\"change\"] = f2Duration / f1Duration\n",
    "                        rawData2.append(row)\n",
    "                        f1Duration = 0\n",
    "                        f2Duration = 0\n",
    "\n",
    "                if (parts2[2] == \"f2\"):\n",
    "                    f2Duration = int(parts2[3].split(\"ms\")[0])\n",
    "                    if f2Duration == 0:\n",
    "                        f2Duration = 1\n",
    "                    if f1Duration > 0:\n",
    "                        row = {}\n",
    "                        row[\"platform\"] = platform\n",
    "                        row[\"workload\"] = workload\n",
    "                        row[\"f1\"] = f1Duration\n",
    "                        row[\"f2\"] = f2Duration\n",
    "                        row[\"change\"] = f2Duration / f1Duration\n",
    "                        rawData2.append(row)\n",
    "                        f1Duration = 0\n",
    "                        f2Duration = 0\n"
   ],
   "metadata": {
    "collapsed": false,
    "pycharm": {
     "name": "#%%\n"
    }
   },
   "execution_count": 2,
   "outputs": [
    {
     "name": "stdout",
     "output_type": "stream",
     "text": [
      "google_A5.log\n",
      "google_B5.log\n",
      "google_C5.log\n",
      "google_D5.log\n",
      "google_E5.log\n"
     ]
    }
   ]
  },
  {
   "cell_type": "code",
   "execution_count": 3,
   "outputs": [
    {
     "data": {
      "text/plain": "          duration\ncount  1000.000000\nmean     41.674000\nstd      80.208198\nmin       0.000000\n25%       0.000000\n50%       1.000000\n75%       6.000000\nmax     287.000000",
      "text/html": "<div>\n<style scoped>\n    .dataframe tbody tr th:only-of-type {\n        vertical-align: middle;\n    }\n\n    .dataframe tbody tr th {\n        vertical-align: top;\n    }\n\n    .dataframe thead th {\n        text-align: right;\n    }\n</style>\n<table border=\"1\" class=\"dataframe\">\n  <thead>\n    <tr style=\"text-align: right;\">\n      <th></th>\n      <th>duration</th>\n    </tr>\n  </thead>\n  <tbody>\n    <tr>\n      <th>count</th>\n      <td>1000.000000</td>\n    </tr>\n    <tr>\n      <th>mean</th>\n      <td>41.674000</td>\n    </tr>\n    <tr>\n      <th>std</th>\n      <td>80.208198</td>\n    </tr>\n    <tr>\n      <th>min</th>\n      <td>0.000000</td>\n    </tr>\n    <tr>\n      <th>25%</th>\n      <td>0.000000</td>\n    </tr>\n    <tr>\n      <th>50%</th>\n      <td>1.000000</td>\n    </tr>\n    <tr>\n      <th>75%</th>\n      <td>6.000000</td>\n    </tr>\n    <tr>\n      <th>max</th>\n      <td>287.000000</td>\n    </tr>\n  </tbody>\n</table>\n</div>"
     },
     "execution_count": 3,
     "metadata": {},
     "output_type": "execute_result"
    }
   ],
   "source": [
    "df_results = pd.DataFrame(rawData)\n",
    "df_results.head()\n",
    "df_results.describe()"
   ],
   "metadata": {
    "collapsed": false,
    "pycharm": {
     "name": "#%%\n"
    }
   }
  },
  {
   "cell_type": "code",
   "execution_count": 4,
   "outputs": [],
   "source": [
    "df_results.to_pickle(outfile)"
   ],
   "metadata": {
    "collapsed": false,
    "pycharm": {
     "name": "#%%\n"
    }
   }
  },
  {
   "cell_type": "code",
   "execution_count": 5,
   "outputs": [
    {
     "data": {
      "text/plain": "               f1         f2      change\ncount  500.000000  500.00000  500.000000\nmean    39.924000   44.32400    1.361700\nstd     77.455697   82.43695    1.596879\nmin      1.000000    1.00000    0.027027\n25%      1.000000    1.00000    1.000000\n50%      1.000000    1.00000    1.000000\n75%      5.000000    9.50000    1.000000\nmax    287.000000  287.00000   14.600000",
      "text/html": "<div>\n<style scoped>\n    .dataframe tbody tr th:only-of-type {\n        vertical-align: middle;\n    }\n\n    .dataframe tbody tr th {\n        vertical-align: top;\n    }\n\n    .dataframe thead th {\n        text-align: right;\n    }\n</style>\n<table border=\"1\" class=\"dataframe\">\n  <thead>\n    <tr style=\"text-align: right;\">\n      <th></th>\n      <th>f1</th>\n      <th>f2</th>\n      <th>change</th>\n    </tr>\n  </thead>\n  <tbody>\n    <tr>\n      <th>count</th>\n      <td>500.000000</td>\n      <td>500.00000</td>\n      <td>500.000000</td>\n    </tr>\n    <tr>\n      <th>mean</th>\n      <td>39.924000</td>\n      <td>44.32400</td>\n      <td>1.361700</td>\n    </tr>\n    <tr>\n      <th>std</th>\n      <td>77.455697</td>\n      <td>82.43695</td>\n      <td>1.596879</td>\n    </tr>\n    <tr>\n      <th>min</th>\n      <td>1.000000</td>\n      <td>1.00000</td>\n      <td>0.027027</td>\n    </tr>\n    <tr>\n      <th>25%</th>\n      <td>1.000000</td>\n      <td>1.00000</td>\n      <td>1.000000</td>\n    </tr>\n    <tr>\n      <th>50%</th>\n      <td>1.000000</td>\n      <td>1.00000</td>\n      <td>1.000000</td>\n    </tr>\n    <tr>\n      <th>75%</th>\n      <td>5.000000</td>\n      <td>9.50000</td>\n      <td>1.000000</td>\n    </tr>\n    <tr>\n      <th>max</th>\n      <td>287.000000</td>\n      <td>287.00000</td>\n      <td>14.600000</td>\n    </tr>\n  </tbody>\n</table>\n</div>"
     },
     "execution_count": 5,
     "metadata": {},
     "output_type": "execute_result"
    }
   ],
   "source": [
    "df_results = pd.DataFrame(rawData2)\n",
    "df_results.head()\n",
    "df_results.describe()"
   ],
   "metadata": {
    "collapsed": false,
    "pycharm": {
     "name": "#%%\n"
    }
   }
  },
  {
   "cell_type": "code",
   "execution_count": 6,
   "outputs": [],
   "source": [
    "df_results.to_pickle(outfile2)"
   ],
   "metadata": {
    "collapsed": false,
    "pycharm": {
     "name": "#%%\n"
    }
   }
  }
 ],
 "metadata": {
  "kernelspec": {
   "display_name": "Python 3",
   "language": "python",
   "name": "python3"
  },
  "language_info": {
   "codemirror_mode": {
    "name": "ipython",
    "version": 2
   },
   "file_extension": ".py",
   "mimetype": "text/x-python",
   "name": "python",
   "nbconvert_exporter": "python",
   "pygments_lexer": "ipython2",
   "version": "2.7.6"
  }
 },
 "nbformat": 4,
 "nbformat_minor": 0
}