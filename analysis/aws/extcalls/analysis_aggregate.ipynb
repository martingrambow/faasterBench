{
 "cells": [
  {
   "cell_type": "code",
   "execution_count": 1,
   "metadata": {
    "collapsed": true
   },
   "outputs": [],
   "source": [
    "import glob\n",
    "import pandas as pd\n",
    "\n",
    "rawData = []\n",
    "outfile = \"results.pkl\""
   ]
  },
  {
   "cell_type": "code",
   "execution_count": 3,
   "metadata": {
    "collapsed": false,
    "pycharm": {
     "name": "#%%\n"
    }
   },
   "outputs": [
    {
     "name": "stdout",
     "output_type": "stream",
     "text": [
      "aws_0_10_5_3.log\n",
      "aws_0_10_10_3.log\n",
      "aws_0_5_25_3.log\n",
      "aws_0_5_10_3.log\n",
      "aws_0_10_25_3.log\n",
      "aws_0_5_5_3.log\n"
     ]
    }
   ],
   "source": [
    "for file in glob.glob(\"*.log\"):\n",
    "    print(file)\n",
    "    workloadParts = file.split(\"_\")\n",
    "    platform = workloadParts[0]\n",
    "    regression = int(workloadParts[1])\n",
    "    wrapperCount = int(workloadParts[2])\n",
    "    callsPerFunction = workloadParts[3]\n",
    "    iterations = int(workloadParts[4].split(\".\")[0])\n",
    "    #    with open(file) as logfile:\n",
    "    with open(file) as logfile:\n",
    "        for line in logfile:\n",
    "            if line.__contains__(\"faaster\"):\n",
    "                line = line[:-4]\n",
    "                if line.__contains__(\"modeA\") and not line.__contains__(\"cold start\"):\n",
    "                    \n",
    "                    line = line.strip()\n",
    "                    parts2 = line.split(\" \")\n",
    "                    #print(line)\n",
    "                    row = {}\n",
    "                    row[\"platform\"] = platform\n",
    "                    row[\"regression\"] = regression\n",
    "                    row[\"wrapperCount\"] = wrapperCount\n",
    "                    row[\"callsPerFunction\"] = callsPerFunction\n",
    "                    row[\"iterations\"] = iterations\n",
    "\n",
    "                    row[\"mode\"] = parts2[2]\n",
    "\n",
    "                    f1Durations = []\n",
    "                    f2Durations = []\n",
    "                    f2Found = False\n",
    "\n",
    "                    for i in range(4,len(parts2)):\n",
    "                        if parts2[i] == \"f2\":\n",
    "                            f2Found = True\n",
    "                            continue\n",
    "                        if f2Found:\n",
    "                            if len(f2Durations) < len(f1Durations):\n",
    "                                f2Durations.append(int(parts2[i]))\n",
    "                        else:\n",
    "                            f1Durations.append(int(parts2[i]))\n",
    "\n",
    "                    for i in range(0, len(f1Durations)):\n",
    "                        #if (f1Durations[i] > 200  and f2Durations[i] > 200):\n",
    "                        row[\"f1\"] = f1Durations[i]\n",
    "                        row[\"f2\"] = f2Durations[i]\n",
    "                        row[\"change\"] = f2Durations[i] / f1Durations[i]\n",
    "                        rawData.append(row)\n",
    "                if line.__contains__(\"modeB\") and not line.__contains__(\"cold start\"):\n",
    "                    line = line.strip()\n",
    "                    parts2 = line.split(\" \")\n",
    "                    #print(line)\n",
    "                    row = {}\n",
    "                    row[\"platform\"] = platform\n",
    "                    row[\"regression\"] = regression\n",
    "                    row[\"wrapperCount\"] = wrapperCount\n",
    "                    row[\"callsPerFunction\"] = callsPerFunction\n",
    "                    row[\"iterations\"] = iterations\n",
    "                    row[\"mode\"] = parts2[2]\n",
    "\n",
    "                    f1Durations = []\n",
    "\n",
    "                    for i in range(4,len(parts2)):\n",
    "                        if parts2[i] == \"f2\":\n",
    "                            break\n",
    "                        else:\n",
    "                            f1Durations.append(int(parts2[i]))\n",
    "\n",
    "                    for i in range(0, len(f1Durations)):\n",
    "                        #if (f1Durations[i] > 200  and f2Durations[i] > 200):\n",
    "                        row[\"f1\"] = f1Durations[i]\n",
    "                        row[\"f2\"] = 0\n",
    "                        row[\"change\"] = 0\n",
    "                        rawData.append(row)\n",
    "\n",
    "                if line.__contains__(\"modeC\") and not line.__contains__(\"cold start\"):\n",
    "                    line = line.strip()\n",
    "                    parts2 = line.split(\" \")\n",
    "                    #print(line)\n",
    "                    row = {}\n",
    "                    row[\"platform\"] = platform\n",
    "                    row[\"regression\"] = regression\n",
    "                    row[\"wrapperCount\"] = wrapperCount\n",
    "                    row[\"callsPerFunction\"] = callsPerFunction\n",
    "                    row[\"iterations\"] = iterations\n",
    "                    row[\"mode\"] = parts2[2]\n",
    "\n",
    "                    f2Durations = []\n",
    "\n",
    "                    for i in range(5,len(parts2)):\n",
    "                        if parts2[i] == \"\\\",\":\n",
    "                            break\n",
    "                        else:\n",
    "                            f2Durations.append(int(parts2[i]))\n",
    "\n",
    "                    for i in range(0, len(f2Durations)):\n",
    "                        #if (f1Durations[i] > 200  and f2Durations[i] > 200):\n",
    "                        row[\"f1\"] = 0\n",
    "                        row[\"f2\"] = f2Durations[i]\n",
    "                        row[\"change\"] = 0\n",
    "                        rawData.append(row)\n",
    "\n",
    "\n"
   ]
  },
  {
   "cell_type": "code",
   "execution_count": 4,
   "metadata": {
    "collapsed": false,
    "pycharm": {
     "name": "#%%\n"
    }
   },
   "outputs": [],
   "source": [
    "df_results = pd.DataFrame(rawData)\n",
    "df_results.head()\n",
    "df_results.describe()\n",
    "\n",
    "df_results.to_pickle(outfile)\n",
    "#df_results.to_csv(\"nils2.csv\")"
   ]
  }
 ],
 "metadata": {
  "kernelspec": {
   "display_name": "Python 3",
   "language": "python",
   "name": "python3"
  },
  "language_info": {
   "codemirror_mode": {
    "name": "ipython",
    "version": 3
   },
   "file_extension": ".py",
   "mimetype": "text/x-python",
   "name": "python",
   "nbconvert_exporter": "python",
   "pygments_lexer": "ipython3",
   "version": "3.10.12"
  }
 },
 "nbformat": 4,
 "nbformat_minor": 0
}
