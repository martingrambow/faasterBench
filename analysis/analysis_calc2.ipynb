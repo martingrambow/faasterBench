{
 "cells": [
  {
   "cell_type": "code",
   "execution_count": 3,
   "metadata": {
    "collapsed": true
   },
   "outputs": [],
   "source": [
    "import pandas as pd\n",
    "import numpy as np\n",
    "import random\n",
    "\n",
    "infile = \"results2.pkl\"\n",
    "outfile = \"perfChanges.plk\"\n",
    "samples = 10000\n",
    "CIsmall = 100 - 99 # 99% conf\n",
    "CImed = 100 - 95 # 95% conf\n",
    "CIlarge = 100 - 10 # 90% conf\n",
    "df_results = pd.read_pickle(infile)"
   ]
  },
  {
   "cell_type": "code",
   "source": [
    "workloads = df_results.workload.unique()\n",
    "for workload in workloads:\n",
    "    print(workload)\n",
    "    changes = df_results.loc[(df_results['workload'] == workload),'change'].to_numpy()\n",
    "    medPerfChange = np.median(changes)\n",
    "    print(f\"    Median Perf Change for workload {workload} is {medPerfChange}%.\")\n",
    "\n",
    "    manySamples = random.choices(changes, k=samples)\n",
    "    manySamples.sort()\n",
    "\n",
    "    small = int((samples * CIsmall) / 100 / 2)\n",
    "    if small == 0:\n",
    "        small  = 1\n",
    "    medium = int((samples * CImed) / 100 / 2)\n",
    "    large = int((samples * CIlarge) / 100 / 2)\n",
    "\n",
    "    minSmall = manySamples[small-1]\n",
    "    minSmall = (minSmall - 1) * 100\n",
    "    maxSmall = manySamples[samples-small-1]\n",
    "    maxSmall = (maxSmall - 1) * 100\n",
    "\n",
    "    minMedium = manySamples[medium-1]\n",
    "    minMedium = (minMedium - 1) * 100\n",
    "    maxMedium = manySamples[samples-medium-1]\n",
    "    maxMedium = (maxMedium - 1) * 100\n",
    "\n",
    "    minLarge = manySamples[large-1]\n",
    "    minLarge = (minLarge - 1) * 100\n",
    "    maxLarge = manySamples[samples-large-1]\n",
    "    maxLarge = (maxLarge - 1) * 100\n",
    "\n",
    "    print(f\"    Found conf. intervals ([{minSmall}, {maxSmall}],[{minMedium}, {maxMedium}],[{minLarge}, {maxLarge}]).\")\n",
    "\n",
    "\n",
    "\n",
    "\n",
    "\n",
    "\n"
   ],
   "metadata": {
    "collapsed": false,
    "pycharm": {
     "name": "#%%\n"
    }
   },
   "execution_count": 4,
   "outputs": [
    {
     "name": "stdout",
     "output_type": "stream",
     "text": [
      "A5\n",
      "    Median Perf Change for workload A5 is 1.0%.\n",
      "    Found conf. intervals ([0.0, 0.0],[0.0, 0.0],[0.0, 0.0]).\n",
      "B5\n",
      "    Median Perf Change for workload B5 is 1.0%.\n",
      "    Found conf. intervals ([-50.0, 0.0],[0.0, 0.0],[0.0, 0.0]).\n",
      "C5\n",
      "    Median Perf Change for workload C5 is 1.0%.\n",
      "    Found conf. intervals ([-97.2972972972973, 366.6666666666667],[-87.5, 200.0],[0.0, 0.0]).\n",
      "D5\n",
      "    Median Perf Change for workload D5 is 1.0%.\n",
      "    Found conf. intervals ([-90.9090909090909, 1360.0],[-88.88888888888889, 1066.6666666666665],[0.0, 0.0]).\n",
      "E5\n",
      "    Median Perf Change for workload E5 is 1.0853387950162143%.\n",
      "    Found conf. intervals ([-42.90780141843972, 220.68965517241378],[-39.92932862190812, 123.01587301587303],[4.932735426008961, 15.254237288135597]).\n"
     ]
    }
   ]
  }
 ],
 "metadata": {
  "kernelspec": {
   "display_name": "Python 3",
   "language": "python",
   "name": "python3"
  },
  "language_info": {
   "codemirror_mode": {
    "name": "ipython",
    "version": 2
   },
   "file_extension": ".py",
   "mimetype": "text/x-python",
   "name": "python",
   "nbconvert_exporter": "python",
   "pygments_lexer": "ipython2",
   "version": "2.7.6"
  }
 },
 "nbformat": 4,
 "nbformat_minor": 0
}